{
 "cells": [
  {
   "cell_type": "markdown",
   "id": "859bcb0f-6970-4c1c-bde0-836f021fbb3b",
   "metadata": {},
   "source": [
    "# "
   ]
  },
  {
   "cell_type": "code",
   "execution_count": null,
   "id": "1714297f-d638-424b-8460-4b28cacb998f",
   "metadata": {},
   "outputs": [],
   "source": [
    "from transformers import AutoTokenizer, AutoModelForCausalLM, TextIteratorStreamer\n",
    "import torch\n",
    "from threading import Thread\n",
    "import time\n",
    "import sys \n",
    "# ----------------------------------------------------------------------------:\n",
    "model_name = \"meta-llama/Llama-3.2-1B-Instruct\"\n",
    "#model_name = \"meta-llama/Llama-3.2-3B-Instruct\"\n",
    "#model_name = \"meta-llama/Llama-3.1-8B-Instruct\"\n",
    "tokenizer = AutoTokenizer.from_pretrained(model_name)\n",
    "model = AutoModelForCausalLM.from_pretrained(model_name)\n",
    "# ----------------------------------------------------------------------------:"
   ]
  },
  {
   "cell_type": "code",
   "execution_count": null,
   "id": "4db9050a-5b7a-4e60-a2ab-e402c5e13887",
   "metadata": {},
   "outputs": [],
   "source": [
    "\n",
    "if torch.cuda.is_available(): device = \"cuda\"\n",
    "elif hasattr(torch.backends, \"mps\") and torch.backends.mps.is_available(): device = \"mps\"\n",
    "else: device = \"cpu\"\n",
    "model = model.to(device)\n",
    "print(f\"DEBUG: Device set to: {device}\")"
   ]
  },
  {
   "cell_type": "code",
   "execution_count": null,
   "id": "57ad6a6f-7f56-40fc-8ba9-6fb5f9f97f44",
   "metadata": {},
   "outputs": [],
   "source": [
    "# https://huggingface.co/docs/transformers/main/en/chat_templating\n",
    "messages = [\n",
    "    {\"role\": \"system\", \"content\": \"You are a helpful assistant.\"},\n",
    "    {\"role\": \"user\", \"content\": \"What is the capital of France?\"}\n",
    "]\n",
    "chat_text = tokenizer.apply_chat_template(\n",
    "    messages, \n",
    "    tokenize=True,\n",
    "    add_generation_prompt=True\n",
    ")\n",
    "print(f\"Chat prompt text ids:\\n{chat_text}\")\n",
    "print(f\"Chat prompt decoded:\\n{tokenizer.decode(chat_text)}\")\n",
    "print(\"-\"*40)\n",
    "tokenized_chat = tokenizer.apply_chat_template(messages, \n",
    "                                               tokenize=True, \n",
    "                                               add_generation_prompt=True, \n",
    "                                               return_tensors=\"pt\")\n",
    "print(tokenizer.decode(tokenized_chat[0]))"
   ]
  },
  {
   "cell_type": "code",
   "execution_count": null,
   "id": "5946b4ad-94f9-479f-9c07-0de151067e4d",
   "metadata": {},
   "outputs": [],
   "source": [
    "len(tokenized_chat[0]) "
   ]
  },
  {
   "cell_type": "code",
   "execution_count": null,
   "id": "50574cf5-a060-4d58-bd44-9ddca6fbafcb",
   "metadata": {},
   "outputs": [],
   "source": [
    "# (9125) --> system\n",
    "# (882) --> user\n",
    "# (128006) --> <|start_header_id|>\n",
    "# (128007) --> <|end_header_id|> \n",
    "# (128009) --> <|eot_id|> \n",
    "# \n",
    "# so you will get a [<start_header_id> | <ID> | <end_header_id> ... <eot_id> ]\n",
    "# This consites a block\n",
    "\n",
    "for i, token in enumerate(tokenized_chat[0].tolist(), start=1) : \n",
    "    decoded = tokenizer.decode(token)\n",
    "    if decoded == \"\\\\n\": decoded = \"-newline-\"\n",
    "    print(f\" ({token}) --> {decoded}\")\n",
    "print(f\"Number of tokens in into prompt: {i}\")"
   ]
  },
  {
   "cell_type": "code",
   "execution_count": null,
   "id": "7656b2c1-d91d-4e1c-9697-3d2201c82e24",
   "metadata": {},
   "outputs": [],
   "source": [
    "chat_text = tokenizer.apply_chat_template(\n",
    "    messages, \n",
    "    tokenize=False,\n",
    "    add_generation_prompt=True\n",
    ")\n",
    "# Tokenize the formatted chat\n",
    "inputs = tokenizer(chat_text, return_tensors=\"pt\").to(device)\n",
    "num_input_tokens = inputs.input_ids.shape[1]\n",
    "\n",
    "print(inputs) \n",
    "print(inputs.input_ids)"
   ]
  },
  {
   "cell_type": "code",
   "execution_count": null,
   "id": "69866104-b921-40ad-b446-7672eec23612",
   "metadata": {},
   "outputs": [],
   "source": [
    "# Create streamer for token-by-token generation\n",
    "streamer = TextIteratorStreamer(tokenizer, \n",
    "                                skip_prompt=True, \n",
    "                                skip_special_tokens=True)\n",
    "\n",
    "\n",
    "\n",
    "# Start generation in a separate thread\n",
    "generation_kwargs = {\n",
    "    \"input_ids\": inputs.input_ids,\n",
    "    \"attention_mask\": inputs.attention_mask,\n",
    "    \"max_new_tokens\": 100,\n",
    "    \"temperature\": 0.7,\n",
    "    \"streamer\": streamer,\n",
    "    \"eos_token_id\": None,\n",
    "    \"do_sample\": True\n",
    "}\n",
    "\n",
    "thread = Thread(target=model.generate, kwargs=generation_kwargs)\n",
    "thread.start()\n",
    "\n",
    "\n",
    "prefill_start = time.time()\n",
    "first_token = next(streamer)\n",
    "prefill_end = time.time()\n",
    "\n",
    "prefill_time = prefill_end - prefill_start\n",
    "\n",
    "\n",
    "\n",
    "# Track generation time\n",
    "generated_text = first_token\n",
    "tokens_generated = 1\n",
    "\n",
    "generation_start = time.time()\n",
    "# Continue streaming tokens\n",
    "for token in streamer:\n",
    "    generated_text += token\n",
    "    tokens_generated += 1\n",
    "\n",
    "generation_end = time.time()\n",
    "generation_time = generation_end - generation_start\n",
    "\n",
    "# Print metrics\n",
    "print(f\"Input: {chat_text}\")\n",
    "print(f\"Generated: {generated_text}\")\n",
    "print(f\"Input tokens: {num_input_tokens}\")\n",
    "print(f\"Output tokens: {tokens_generated}\")\n",
    "print(f\"Prefill time: {prefill_time:.4f}s\")\n",
    "print(f\"Generation time: {generation_time:.4f}s\")\n",
    "print(f\"Generation tokens/second: {tokens_generated/generation_time:.2f}\")"
   ]
  },
  {
   "cell_type": "markdown",
   "id": "e3a76cd3-cf54-4185-8072-939e5efee39c",
   "metadata": {},
   "source": [
    "---\n",
    "## LLM + KG "
   ]
  },
  {
   "cell_type": "code",
   "execution_count": 1,
   "id": "4ab4a8ca-3c55-4cb2-8a55-ecc76233d440",
   "metadata": {},
   "outputs": [
    {
     "name": "stderr",
     "output_type": "stream",
     "text": [
      "/Users/msbabo/code/mlhq-kg-mac/mlhq/VENV/lib/python3.9/site-packages/urllib3/__init__.py:35: NotOpenSSLWarning: urllib3 v2 only supports OpenSSL 1.1.1+, currently the 'ssl' module is compiled with 'LibreSSL 2.8.3'. See: https://github.com/urllib3/urllib3/issues/3020\n",
      "  warnings.warn(\n",
      "/Users/msbabo/code/mlhq-kg-mac/mlhq/VENV/lib/python3.9/site-packages/tqdm/auto.py:21: TqdmWarning: IProgress not found. Please update jupyter and ipywidgets. See https://ipywidgets.readthedocs.io/en/stable/user_install.html\n",
      "  from .autonotebook import tqdm as notebook_tqdm\n"
     ]
    }
   ],
   "source": [
    "from transformers import AutoTokenizer, AutoModelForCausalLM, TextIteratorStreamer\n",
    "import torch\n",
    "from threading import Thread\n",
    "import time\n",
    "import sys \n",
    "from mlhq.utils import load_jsonl, proceed, write_json "
   ]
  },
  {
   "cell_type": "code",
   "execution_count": 2,
   "id": "9a6fc746-f44f-4b15-8538-9452e43e2b03",
   "metadata": {},
   "outputs": [],
   "source": [
    "model_name = \"meta-llama/Llama-3.2-1B-Instruct\"\n",
    "#model_name = \"meta-llama/Llama-3.2-3B-Instruct\"\n",
    "#model_name = \"meta-llama/Llama-3.1-8B-Instruct\"\n",
    "tokenizer = AutoTokenizer.from_pretrained(model_name)\n",
    "model = AutoModelForCausalLM.from_pretrained(model_name)"
   ]
  },
  {
   "cell_type": "code",
   "execution_count": 3,
   "id": "dcdeb643-6395-4eda-9010-acbc87a1ffee",
   "metadata": {},
   "outputs": [
    {
     "name": "stdout",
     "output_type": "stream",
     "text": [
      "DEBUG: Device set to: mps\n"
     ]
    }
   ],
   "source": [
    "if torch.cuda.is_available(): device = \"cuda\"\n",
    "elif hasattr(torch.backends, \"mps\") and torch.backends.mps.is_available(): device = \"mps\"\n",
    "else: device = \"cpu\"\n",
    "model = model.to(device)\n",
    "print(f\"DEBUG: Device set to: {device}\")"
   ]
  },
  {
   "cell_type": "code",
   "execution_count": 4,
   "id": "4aa23d0e-83fb-4d79-9daf-ac8fea9bf55e",
   "metadata": {},
   "outputs": [],
   "source": [
    "qa_paths = {\n",
    "    \"biomedical\" : \"/Users/msbabo/code/Graph-CoT/data/processed_data/biomedical/data.jsonl\", \n",
    "    \"amazon\" : \"/Users/msbabo/code/Graph-CoT/data/processed_data/amazon/data.jsonl\", \n",
    "    \"dblp\" : \"/Users/msbabo/code/Graph-CoT/data/processed_data/dblp/data.jsonl\", \n",
    "    \"goodreads\": \"/Users/msbabo/code/Graph-CoT/data/processed_data/goodreads/data.jsonl\", \n",
    "    \"legal\": \"/Users/msbabo/code/Graph-CoT/data/processed_data/legal/data.jsonl\", \n",
    "    \"maple-biology\": \"/Users/msbabo/code/Graph-CoT/data/processed_data/maple/Biology/data.jsonl\",\n",
    "    \"maple-medicine\": \"/Users/msbabo/code/Graph-CoT/data/processed_data/maple/Medicine/data.jsonl\",\n",
    "    \"maple-physics\": \"/Users/msbabo/code/Graph-CoT/data/processed_data/maple/Physics/data.jsonl\",\n",
    "    \"maple-materials-science\": \"/Users/msbabo/code/Graph-CoT/data/processed_data/maple/Materials_Science/data.jsonl\",\n",
    "    \"maple-chemistry\": \"/Users/msbabo/code/Graph-CoT/data/processed_data/maple/Chemistry/data.jsonl\",\n",
    "}\n",
    "domains = [ \n",
    "    \"amazon\", \n",
    "    \"biomedical\", \n",
    "    \"dblp\", \n",
    "    \"goodreads\", \n",
    "    \"legal\", \n",
    "    \"maple-biology\", \n",
    "    \"maple-physics\", \n",
    "    \"maple-chemistry\", \n",
    "    \"maple-medicine\", \n",
    "    \"maple-materials-science\", \n",
    "]"
   ]
  },
  {
   "cell_type": "code",
   "execution_count": 5,
   "id": "ccd662ed-ae35-41fe-b3ae-95722cbf926b",
   "metadata": {},
   "outputs": [],
   "source": [
    "system_prompt = \"\"\"\n",
    "You are an expert prompt classifier designed to categorize user prompts accurately into one of two distinct categories:\n",
    "\n",
    "Internal Response: Prompts for which an LLM can confidently provide accurate, complete, and helpful responses solely using its internal knowledge, without needing external information, databases, APIs, or tooling.\n",
    "\n",
    "External Response: Prompts for which an LLM requires external knowledge, updated information, APIs, databases, or external tooling to confidently deliver accurate, complete, and helpful responses.\n",
    "\n",
    "Guidelines for Classification:\n",
    "\n",
    "Classify prompts as \"Internal Response\" if the information needed to answer fully and confidently is within general world knowledge as of the training cutoff, and no specific, updated, or external information is required.\n",
    "\n",
    "Classify prompts as \"External Response\" if answering correctly and confidently necessitates:\n",
    "\n",
    "Real-time data, current events, or recent updates.\n",
    "\n",
    "Information specific to locations, current weather, dates, times, recent publications, or market values.\n",
    "\n",
    "External computation, databases, or web searches.\n",
    "\n",
    "Provide only the classification label (\"Internal Response\" or \"External Response\") as your output.\n",
    "\"\"\"\n",
    "system_prompt_len = len(tokenizer(system_prompt)['input_ids'])\n",
    "#print(f\"Length of System-prompt: {system_prompt_len}\")\n",
    "\n",
    "#messages = [{\"role\": \"system\",\"content\": f\"{system_prompt}\"}]\n",
    "#sys_txt = tokenizer.apply_chat_template(\n",
    "#    messages, \n",
    "#    tokenize=True,\n",
    "#    add_generation_prompt=True,\n",
    "#    return_tensors=\"pt\" # w/ Tensor, w/o list\n",
    "#).to(device)\n",
    "#print(type(sys_txt), sys_txt)\n",
    "\n",
    "#for i, token in enumerate(sys_txt[0].tolist(), start=1) : \n",
    "#    decoded = tokenizer.decode(token)\n",
    "#    if decoded == \"\\\\n\": decoded = \"-newline-\"\n",
    "#    print(f\" ({token:6}) --> {decoded}\")\n",
    "#print(f\"Number of tokens in into prompt: {i}\")"
   ]
  },
  {
   "cell_type": "code",
   "execution_count": 6,
   "id": "cf3961bf-9532-4523-9f3a-2e7d878d38ee",
   "metadata": {},
   "outputs": [],
   "source": [
    "prefix = \"Incoming Prompt:\\n\"\n",
    "prefix_len = len(tokenizer(prefix)['input_ids'])\n",
    "\n",
    "#prx_txt = tokenizer.apply_chat_template(\n",
    "#    messages, \n",
    "#    tokenize=True,\n",
    "#    add_generation_prompt=True,\n",
    "#    return_tensors=\"pt\" # w/ Tensor, w/o list\n",
    "#).to(device)"
   ]
  },
  {
   "cell_type": "markdown",
   "id": "39a47896-0dfb-4cbf-95f0-a021d92fcfb4",
   "metadata": {},
   "source": [
    "---"
   ]
  },
  {
   "cell_type": "code",
   "execution_count": 7,
   "id": "48be65fc-fc57-49ec-8dea-04be6caa76e6",
   "metadata": {},
   "outputs": [],
   "source": [
    "results = {}\n",
    "results['model'] = model_name\n",
    "results['model-config'] = model.config.__dict__\n",
    "#results['task'] = task \n",
    "#results['forward-params'] = dict(pipe.__dict__[\"_forward_params\"])\n",
    "#results[\"generation-config\"] = {} \n",
    "results[\"system-prompt\"] = system_prompt\n",
    "results[\"system-prompt-len\"] = system_prompt_len\n",
    "results[\"prefix\"] = prefix\n",
    "results[\"prefix-len\"] = prefix_len\n",
    "#print(f\"System prompt length = {system_prompt_len}\")\n",
    "#print(f\"Prefix length = {prefix_len}\")"
   ]
  },
  {
   "cell_type": "code",
   "execution_count": 14,
   "id": "fc5370f3-75fc-438f-a0ff-39e356fc7102",
   "metadata": {},
   "outputs": [
    {
     "name": "stderr",
     "output_type": "stream",
     "text": [
      "Setting `pad_token_id` to `eos_token_id`:128001 for open-end generation.\n"
     ]
    },
    {
     "name": "stdout",
     "output_type": "stream",
     "text": [
      "1.) [amazon] Question   --> Could you specify the brand of Dolica DC-BP511 1400mAh Canon Battery?\n"
     ]
    },
    {
     "name": "stderr",
     "output_type": "stream",
     "text": [
      "Setting `pad_token_id` to `eos_token_id`:128001 for open-end generation.\n"
     ]
    },
    {
     "name": "stdout",
     "output_type": "stream",
     "text": [
      "Input tokens: 271\n",
      "Output tokens: 7\n",
      "Prefill time: 0.1485s\n",
      "Generation time: 0.1004s\n",
      "Generation tokens/second: 69.75\n",
      "2.) [amazon] Question   --> Could you specify the brand of [Aftermarket Product] Black PU Leather Wireless Bluetooth Keyboard Flip Case Cover For Samsung Galaxy S3 i9300 Sprint L710 att i747 Verizon i535 T-Mobile T999 New?\n"
     ]
    },
    {
     "name": "stderr",
     "output_type": "stream",
     "text": [
      "Setting `pad_token_id` to `eos_token_id`:128001 for open-end generation.\n"
     ]
    },
    {
     "name": "stdout",
     "output_type": "stream",
     "text": [
      "Input tokens: 295\n",
      "Output tokens: 12\n",
      "Prefill time: 0.0771s\n",
      "Generation time: 0.2224s\n",
      "Generation tokens/second: 53.95\n",
      "3.) [amazon] Question   --> Could you specify the brand of Blackberry Playbook 7-Inch Tablet (64GB)?\n"
     ]
    },
    {
     "name": "stderr",
     "output_type": "stream",
     "text": [
      "Setting `pad_token_id` to `eos_token_id`:128001 for open-end generation.\n"
     ]
    },
    {
     "name": "stdout",
     "output_type": "stream",
     "text": [
      "Input tokens: 271\n",
      "Output tokens: 41\n",
      "Prefill time: 0.0695s\n",
      "Generation time: 0.8588s\n",
      "Generation tokens/second: 47.74\n",
      "4.) [amazon] Question   --> What brand does the item Intermatic ML900TW 900-Watt Power Pack with Timer and Ground Shield belong to?\n"
     ]
    },
    {
     "name": "stderr",
     "output_type": "stream",
     "text": [
      "Setting `pad_token_id` to `eos_token_id`:128001 for open-end generation.\n"
     ]
    },
    {
     "name": "stdout",
     "output_type": "stream",
     "text": [
      "Input tokens: 277\n",
      "Output tokens: 32\n",
      "Prefill time: 0.0732s\n",
      "Generation time: 0.6230s\n",
      "Generation tokens/second: 51.37\n",
      "5.) [amazon] Question   --> What is the brand of item Easy Provider Covert Acoustic Tube Earpiece 2 PIN for Motorola Radio?\n"
     ]
    },
    {
     "name": "stderr",
     "output_type": "stream",
     "text": [
      "Setting `pad_token_id` to `eos_token_id`:128001 for open-end generation.\n"
     ]
    },
    {
     "name": "stdout",
     "output_type": "stream",
     "text": [
      "Input tokens: 274\n",
      "Output tokens: 28\n",
      "Prefill time: 0.0713s\n",
      "Generation time: 0.5467s\n",
      "Generation tokens/second: 51.22\n",
      "6.) [amazon] Question   --> What is the brand of item 3-D Letter Kit Chrom (1/2 inch)?\n"
     ]
    },
    {
     "name": "stderr",
     "output_type": "stream",
     "text": [
      "Setting `pad_token_id` to `eos_token_id`:128001 for open-end generation.\n",
      "Setting `pad_token_id` to `eos_token_id`:128001 for open-end generation.\n"
     ]
    },
    {
     "name": "stdout",
     "output_type": "stream",
     "text": [
      "Input tokens: 270\n",
      "Output tokens: 32\n",
      "Prefill time: 0.0720s\n",
      "Generation time: 0.6278s\n",
      "Generation tokens/second: 50.97\n",
      "7.) [amazon] Question   --> What brand does the item Sassy Developmental Bath Toy, Catch and Count Net belong to?\n",
      "Input tokens: 271\n",
      "Output tokens: 4\n",
      "Prefill time: 0.0690s\n",
      "Generation time: 0.0418s\n",
      "Generation tokens/second: 95.80\n",
      "8.) [amazon] Question   --> Can you tell me the brand of the item NECA Gears of War 3 Series 2 Action Figure Damon Baird Lancer, Wrench Screwdrivers?\n"
     ]
    },
    {
     "name": "stderr",
     "output_type": "stream",
     "text": [
      "Setting `pad_token_id` to `eos_token_id`:128001 for open-end generation.\n"
     ]
    },
    {
     "name": "stdout",
     "output_type": "stream",
     "text": [
      "Input tokens: 285\n",
      "Output tokens: 40\n",
      "Prefill time: 0.0719s\n",
      "Generation time: 0.7997s\n",
      "Generation tokens/second: 50.02\n",
      "9.) [amazon] Question   --> Can you tell me the brand of the item Speedball Mona Lisa 18-Inch-by-24-Inch Jumbo Graphite Paper, Black?\n"
     ]
    },
    {
     "name": "stderr",
     "output_type": "stream",
     "text": [
      "Setting `pad_token_id` to `eos_token_id`:128001 for open-end generation.\n",
      "Setting `pad_token_id` to `eos_token_id`:128001 for open-end generation.\n"
     ]
    },
    {
     "name": "stdout",
     "output_type": "stream",
     "text": [
      "Input tokens: 282\n",
      "Output tokens: 64\n",
      "Prefill time: 0.0712s\n",
      "Generation time: 1.3258s\n",
      "Generation tokens/second: 48.27\n",
      "10.) [amazon] Question   --> What brand does the item Denim Blue Baker's Twine, 240 Yard Spool belong to?\n",
      "Input tokens: 273\n",
      "Output tokens: 4\n",
      "Prefill time: 0.0723s\n",
      "Generation time: 0.0398s\n",
      "Generation tokens/second: 100.47\n",
      "1.) [biomedical] Question   --> Are there any side effects of using compound Malathion?\n"
     ]
    },
    {
     "name": "stderr",
     "output_type": "stream",
     "text": [
      "Setting `pad_token_id` to `eos_token_id`:128001 for open-end generation.\n"
     ]
    },
    {
     "name": "stdout",
     "output_type": "stream",
     "text": [
      "Input tokens: 264\n",
      "Output tokens: 101\n",
      "Prefill time: 0.0720s\n",
      "Generation time: 2.1872s\n",
      "Generation tokens/second: 46.18\n",
      "2.) [biomedical] Question   --> Are there any side effects of using compound Zinc?\n"
     ]
    },
    {
     "name": "stderr",
     "output_type": "stream",
     "text": [
      "Setting `pad_token_id` to `eos_token_id`:128001 for open-end generation.\n"
     ]
    },
    {
     "name": "stdout",
     "output_type": "stream",
     "text": [
      "Input tokens: 262\n",
      "Output tokens: 101\n",
      "Prefill time: 0.0732s\n",
      "Generation time: 2.1686s\n",
      "Generation tokens/second: 46.57\n",
      "3.) [biomedical] Question   --> Are there any side effects of using compound Benzyl Benzoate?\n"
     ]
    },
    {
     "name": "stderr",
     "output_type": "stream",
     "text": [
      "Setting `pad_token_id` to `eos_token_id`:128001 for open-end generation.\n"
     ]
    },
    {
     "name": "stdout",
     "output_type": "stream",
     "text": [
      "Input tokens: 266\n",
      "Output tokens: 78\n",
      "Prefill time: 0.0721s\n",
      "Generation time: 1.6288s\n",
      "Generation tokens/second: 47.89\n",
      "4.) [biomedical] Question   --> Can you list the side effects of Mepyramine?\n"
     ]
    },
    {
     "name": "stderr",
     "output_type": "stream",
     "text": [
      "Setting `pad_token_id` to `eos_token_id`:128001 for open-end generation.\n"
     ]
    },
    {
     "name": "stdout",
     "output_type": "stream",
     "text": [
      "Input tokens: 264\n",
      "Output tokens: 68\n",
      "Prefill time: 0.0696s\n",
      "Generation time: 1.4373s\n",
      "Generation tokens/second: 47.31\n",
      "5.) [biomedical] Question   --> what are the side effects of compound Acetic acid?\n"
     ]
    },
    {
     "name": "stderr",
     "output_type": "stream",
     "text": [
      "Setting `pad_token_id` to `eos_token_id`:128001 for open-end generation.\n"
     ]
    },
    {
     "name": "stdout",
     "output_type": "stream",
     "text": [
      "Input tokens: 263\n",
      "Output tokens: 101\n",
      "Prefill time: 0.0722s\n",
      "Generation time: 2.2078s\n",
      "Generation tokens/second: 45.75\n",
      "6.) [biomedical] Question   --> what are the side effects of compound Pyridoxine?\n"
     ]
    },
    {
     "name": "stderr",
     "output_type": "stream",
     "text": [
      "Setting `pad_token_id` to `eos_token_id`:128001 for open-end generation.\n"
     ]
    },
    {
     "name": "stdout",
     "output_type": "stream",
     "text": [
      "Input tokens: 264\n",
      "Output tokens: 101\n",
      "Prefill time: 0.0793s\n",
      "Generation time: 2.1955s\n",
      "Generation tokens/second: 46.00\n",
      "7.) [biomedical] Question   --> Can you list the side effects of Hexachlorophene?\n"
     ]
    },
    {
     "name": "stderr",
     "output_type": "stream",
     "text": [
      "Setting `pad_token_id` to `eos_token_id`:128001 for open-end generation.\n"
     ]
    },
    {
     "name": "stdout",
     "output_type": "stream",
     "text": [
      "Input tokens: 265\n",
      "Output tokens: 101\n",
      "Prefill time: 0.0731s\n",
      "Generation time: 2.1680s\n",
      "Generation tokens/second: 46.59\n",
      "8.) [biomedical] Question   --> Could you tell me the side effects of the compound Triclosan?\n"
     ]
    },
    {
     "name": "stderr",
     "output_type": "stream",
     "text": [
      "Setting `pad_token_id` to `eos_token_id`:128001 for open-end generation.\n",
      "Setting `pad_token_id` to `eos_token_id`:128001 for open-end generation.\n"
     ]
    },
    {
     "name": "stdout",
     "output_type": "stream",
     "text": [
      "Input tokens: 267\n",
      "Output tokens: 7\n",
      "Prefill time: 0.1021s\n",
      "Generation time: 0.1047s\n",
      "Generation tokens/second: 66.83\n",
      "9.) [biomedical] Question   --> Could you tell me the side effects of the compound Vitamin A?\n",
      "Input tokens: 265\n",
      "Output tokens: 7\n",
      "Prefill time: 0.0693s\n",
      "Generation time: 0.1083s\n",
      "Generation tokens/second: 64.65\n",
      "10.) [biomedical] Question   --> Can you list the side effects of Crotamiton?\n"
     ]
    },
    {
     "name": "stderr",
     "output_type": "stream",
     "text": [
      "Setting `pad_token_id` to `eos_token_id`:128001 for open-end generation.\n"
     ]
    },
    {
     "name": "stdout",
     "output_type": "stream",
     "text": [
      "Input tokens: 264\n",
      "Output tokens: 8\n",
      "Prefill time: 0.0686s\n",
      "Generation time: 0.1276s\n",
      "Generation tokens/second: 62.69\n",
      "1.) [dblp] Question   --> Can you inform me who are the authors of \"Patient-Specific Physiological Monitoring And Prediction Using Structured Gaussian Processes?\" \n"
     ]
    },
    {
     "name": "stderr",
     "output_type": "stream",
     "text": [
      "Setting `pad_token_id` to `eos_token_id`:128001 for open-end generation.\n"
     ]
    },
    {
     "name": "stdout",
     "output_type": "stream",
     "text": [
      "Input tokens: 276\n",
      "Output tokens: 33\n",
      "Prefill time: 0.0734s\n",
      "Generation time: 0.6901s\n",
      "Generation tokens/second: 47.82\n",
      "2.) [dblp] Question   --> Can you inform me who are the authors of \"Long Range Optical Truck Tracking.?\" \n"
     ]
    },
    {
     "name": "stderr",
     "output_type": "stream",
     "text": [
      "Setting `pad_token_id` to `eos_token_id`:128001 for open-end generation.\n",
      "Setting `pad_token_id` to `eos_token_id`:128001 for open-end generation.\n"
     ]
    },
    {
     "name": "stdout",
     "output_type": "stream",
     "text": [
      "Input tokens: 269\n",
      "Output tokens: 38\n",
      "Prefill time: 0.0717s\n",
      "Generation time: 0.8008s\n",
      "Generation tokens/second: 47.45\n",
      "3.) [dblp] Question   --> Can you inform me who are the authors of \"0.33 mm 2 13.3 dB gain sub-6 GHz to 28 GHz transformer-coupled low-voltage upconversion mixer for 5G applications?\" \n",
      "Input tokens: 298\n",
      "Output tokens: 7\n",
      "Prefill time: 0.0768s\n",
      "Generation time: 0.1060s\n",
      "Generation tokens/second: 66.02\n",
      "4.) [dblp] Question   --> Could you tell me the authors of the paper \"Physical parameter extraction over urban areas using L-band POLSAR data and interferometric baseline diversity?\" \n"
     ]
    },
    {
     "name": "stderr",
     "output_type": "stream",
     "text": [
      "Setting `pad_token_id` to `eos_token_id`:128001 for open-end generation.\n"
     ]
    },
    {
     "name": "stdout",
     "output_type": "stream",
     "text": [
      "Input tokens: 281\n",
      "Output tokens: 101\n",
      "Prefill time: 0.0724s\n",
      "Generation time: 2.1945s\n",
      "Generation tokens/second: 46.02\n",
      "5.) [dblp] Question   --> Who are the authors of paper \"A New Node Deployment and Location Dispatch Algorithm for Underwater Sensor Networks.?\" \n"
     ]
    },
    {
     "name": "stderr",
     "output_type": "stream",
     "text": [
      "Setting `pad_token_id` to `eos_token_id`:128001 for open-end generation.\n",
      "Setting `pad_token_id` to `eos_token_id`:128001 for open-end generation.\n"
     ]
    },
    {
     "name": "stdout",
     "output_type": "stream",
     "text": [
      "Input tokens: 274\n",
      "Output tokens: 34\n",
      "Prefill time: 0.0733s\n",
      "Generation time: 0.6115s\n",
      "Generation tokens/second: 55.60\n",
      "6.) [dblp] Question   --> Who are the authors of paper \"Distributed global development parametric cost modeling?\" \n",
      "Input tokens: 268\n",
      "Output tokens: 4\n",
      "Prefill time: 0.0722s\n",
      "Generation time: 0.0474s\n",
      "Generation tokens/second: 84.40\n",
      "7.) [dblp] Question   --> Could you tell me the authors of the paper \"BlockHammer: Improving Flash Reliability by Exploiting Process Variation Aware Proactive Failure Prediction?\" \n"
     ]
    },
    {
     "name": "stderr",
     "output_type": "stream",
     "text": [
      "Setting `pad_token_id` to `eos_token_id`:128001 for open-end generation.\n"
     ]
    },
    {
     "name": "stdout",
     "output_type": "stream",
     "text": [
      "Input tokens: 283\n",
      "Output tokens: 41\n",
      "Prefill time: 0.1051s\n",
      "Generation time: 0.7449s\n",
      "Generation tokens/second: 55.04\n",
      "8.) [dblp] Question   --> Can you tell me who wrote the paper \"Biologically Inspired Neural Controller For Robot Learning And Mapping?\" \n"
     ]
    },
    {
     "name": "stderr",
     "output_type": "stream",
     "text": [
      "Setting `pad_token_id` to `eos_token_id`:128001 for open-end generation.\n"
     ]
    },
    {
     "name": "stdout",
     "output_type": "stream",
     "text": [
      "Input tokens: 272\n",
      "Output tokens: 36\n",
      "Prefill time: 0.0717s\n",
      "Generation time: 0.6495s\n",
      "Generation tokens/second: 55.42\n",
      "9.) [dblp] Question   --> Can you tell me who wrote the paper \"Sub-Bottom Sediment Classification Using Reliable Instantaneous Frequency Calculation and Relaxation Time Estimation?\" \n"
     ]
    },
    {
     "name": "stderr",
     "output_type": "stream",
     "text": [
      "Setting `pad_token_id` to `eos_token_id`:128001 for open-end generation.\n"
     ]
    },
    {
     "name": "stdout",
     "output_type": "stream",
     "text": [
      "Input tokens: 280\n",
      "Output tokens: 8\n",
      "Prefill time: 0.1019s\n",
      "Generation time: 0.1192s\n",
      "Generation tokens/second: 67.10\n",
      "10.) [dblp] Question   --> Could you tell me the authors of the paper \"Robust assembly line balancing with heterogeneous workers?\" \n"
     ]
    },
    {
     "name": "stderr",
     "output_type": "stream",
     "text": [
      "Setting `pad_token_id` to `eos_token_id`:128001 for open-end generation.\n"
     ]
    },
    {
     "name": "stdout",
     "output_type": "stream",
     "text": [
      "Input tokens: 271\n",
      "Output tokens: 25\n",
      "Prefill time: 0.0718s\n",
      "Generation time: 0.4761s\n",
      "Generation tokens/second: 52.51\n",
      "1.) [goodreads] Question   --> Who penned the book Truth, Love, Non-Violence: The Story of Gurcharan Singh Bhatia?\n"
     ]
    },
    {
     "name": "stderr",
     "output_type": "stream",
     "text": [
      "Setting `pad_token_id` to `eos_token_id`:128001 for open-end generation.\n",
      "Setting `pad_token_id` to `eos_token_id`:128001 for open-end generation.\n"
     ]
    },
    {
     "name": "stdout",
     "output_type": "stream",
     "text": [
      "Input tokens: 276\n",
      "Output tokens: 37\n",
      "Prefill time: 0.0715s\n",
      "Generation time: 0.6958s\n",
      "Generation tokens/second: 53.17\n",
      "2.) [goodreads] Question   --> Who penned the book Robert Graves the Assault Heroic 19 (v. 1)?\n",
      "Input tokens: 270\n",
      "Output tokens: 6\n",
      "Prefill time: 0.0718s\n",
      "Generation time: 0.0798s\n",
      "Generation tokens/second: 75.21\n",
      "3.) [goodreads] Question   --> Who penned the book Cape Cod Surprise: Oliver Matches Wits with Hurricane Carol?\n"
     ]
    },
    {
     "name": "stderr",
     "output_type": "stream",
     "text": [
      "Setting `pad_token_id` to `eos_token_id`:128001 for open-end generation.\n",
      "Setting `pad_token_id` to `eos_token_id`:128001 for open-end generation.\n"
     ]
    },
    {
     "name": "stdout",
     "output_type": "stream",
     "text": [
      "Input tokens: 268\n",
      "Output tokens: 4\n",
      "Prefill time: 0.0705s\n",
      "Generation time: 0.0392s\n",
      "Generation tokens/second: 101.93\n",
      "4.) [goodreads] Question   --> Do you know who penned the book Sea Monsters and Other Delicacies (An Awfully Beastly Business, #2)?\n",
      "Input tokens: 277\n",
      "Output tokens: 6\n",
      "Prefill time: 0.0733s\n",
      "Generation time: 0.0838s\n",
      "Generation tokens/second: 71.59\n",
      "5.) [goodreads] Question   --> Who are the authors of the book Cat Out of the Bag (By the Tail, #1)?\n"
     ]
    },
    {
     "name": "stderr",
     "output_type": "stream",
     "text": [
      "Setting `pad_token_id` to `eos_token_id`:128001 for open-end generation.\n",
      "Setting `pad_token_id` to `eos_token_id`:128001 for open-end generation.\n"
     ]
    },
    {
     "name": "stdout",
     "output_type": "stream",
     "text": [
      "Input tokens: 272\n",
      "Output tokens: 42\n",
      "Prefill time: 0.0709s\n",
      "Generation time: 0.8059s\n",
      "Generation tokens/second: 52.11\n",
      "6.) [goodreads] Question   --> Who are the authors of the book Life in Stone: Fossils of the Colorado Plateau?\n",
      "Input tokens: 272\n",
      "Output tokens: 4\n",
      "Prefill time: 0.0701s\n",
      "Generation time: 0.0397s\n",
      "Generation tokens/second: 100.74\n",
      "7.) [goodreads] Question   --> Do you know who penned the book An Act of Evil (Augustus Maltravers Mystery Book 1)?\n"
     ]
    },
    {
     "name": "stderr",
     "output_type": "stream",
     "text": [
      "Setting `pad_token_id` to `eos_token_id`:128001 for open-end generation.\n",
      "Setting `pad_token_id` to `eos_token_id`:128001 for open-end generation.\n"
     ]
    },
    {
     "name": "stdout",
     "output_type": "stream",
     "text": [
      "Input tokens: 274\n",
      "Output tokens: 4\n",
      "Prefill time: 0.0714s\n",
      "Generation time: 0.0411s\n",
      "Generation tokens/second: 97.30\n",
      "8.) [goodreads] Question   --> Can you tell me the authors of the book أوراقي.. حياتي.. ج1?\n",
      "Input tokens: 273\n",
      "Output tokens: 7\n",
      "Prefill time: 0.0729s\n",
      "Generation time: 0.0997s\n",
      "Generation tokens/second: 70.19\n",
      "9.) [goodreads] Question   --> Can you tell me the authors of the book Don't Panic: The Official Hitchhiker's Guide to the Galaxy Companion?\n"
     ]
    },
    {
     "name": "stderr",
     "output_type": "stream",
     "text": [
      "Setting `pad_token_id` to `eos_token_id`:128001 for open-end generation.\n",
      "Setting `pad_token_id` to `eos_token_id`:128001 for open-end generation.\n"
     ]
    },
    {
     "name": "stdout",
     "output_type": "stream",
     "text": [
      "Input tokens: 277\n",
      "Output tokens: 31\n",
      "Prefill time: 0.0700s\n",
      "Generation time: 0.5824s\n",
      "Generation tokens/second: 53.23\n",
      "10.) [goodreads] Question   --> Do you know who penned the book The Battle For WondLa (The Search for WondLa, #3)?\n",
      "Input tokens: 276\n",
      "Output tokens: 6\n",
      "Prefill time: 0.0717s\n",
      "Generation time: 0.0789s\n",
      "Generation tokens/second: 76.01\n",
      "1.) [legal] Question   --> what is the start date of court U.S. Circuit Court for the District of Western Kentucky?\n"
     ]
    },
    {
     "name": "stderr",
     "output_type": "stream",
     "text": [
      "Setting `pad_token_id` to `eos_token_id`:128001 for open-end generation.\n"
     ]
    },
    {
     "name": "stdout",
     "output_type": "stream",
     "text": [
      "Input tokens: 271\n",
      "Output tokens: 31\n",
      "Prefill time: 0.0708s\n",
      "Generation time: 0.5727s\n",
      "Generation tokens/second: 54.13\n",
      "2.) [legal] Question   --> what is the start date of court Circuit Court of the 12th Judicial Circuit of Florida, Manatee County?\n"
     ]
    },
    {
     "name": "stderr",
     "output_type": "stream",
     "text": [
      "Setting `pad_token_id` to `eos_token_id`:128001 for open-end generation.\n"
     ]
    },
    {
     "name": "stdout",
     "output_type": "stream",
     "text": [
      "Input tokens: 275\n",
      "Output tokens: 49\n",
      "Prefill time: 0.0733s\n",
      "Generation time: 0.9410s\n",
      "Generation tokens/second: 52.07\n",
      "3.) [legal] Question   --> what is the start date of court Oyer and Terminer, Rensselaer County?\n"
     ]
    },
    {
     "name": "stderr",
     "output_type": "stream",
     "text": [
      "Setting `pad_token_id` to `eos_token_id`:128001 for open-end generation.\n"
     ]
    },
    {
     "name": "stdout",
     "output_type": "stream",
     "text": [
      "Input tokens: 272\n",
      "Output tokens: 35\n",
      "Prefill time: 0.0700s\n",
      "Generation time: 0.6439s\n",
      "Generation tokens/second: 54.35\n",
      "4.) [legal] Question   --> When is the North Dakota Court of Appeals court scheduled to start?\n"
     ]
    },
    {
     "name": "stderr",
     "output_type": "stream",
     "text": [
      "Setting `pad_token_id` to `eos_token_id`:128001 for open-end generation.\n"
     ]
    },
    {
     "name": "stdout",
     "output_type": "stream",
     "text": [
      "Input tokens: 265\n",
      "Output tokens: 101\n",
      "Prefill time: 0.0723s\n",
      "Generation time: 2.0065s\n",
      "Generation tokens/second: 50.34\n",
      "5.) [legal] Question   --> When is the Circuit Court of the 3rd Judicial Circuit of Florida, Columbia County court scheduled to start?\n"
     ]
    },
    {
     "name": "stderr",
     "output_type": "stream",
     "text": [
      "Setting `pad_token_id` to `eos_token_id`:128001 for open-end generation.\n"
     ]
    },
    {
     "name": "stdout",
     "output_type": "stream",
     "text": [
      "Input tokens: 274\n",
      "Output tokens: 47\n",
      "Prefill time: 0.0703s\n",
      "Generation time: 0.8604s\n",
      "Generation tokens/second: 54.63\n",
      "6.) [legal] Question   --> When does the court Oregon Supreme Court commence?\n"
     ]
    },
    {
     "name": "stderr",
     "output_type": "stream",
     "text": [
      "Setting `pad_token_id` to `eos_token_id`:128001 for open-end generation.\n"
     ]
    },
    {
     "name": "stdout",
     "output_type": "stream",
     "text": [
      "Input tokens: 261\n",
      "Output tokens: 21\n",
      "Prefill time: 0.1074s\n",
      "Generation time: 0.3764s\n",
      "Generation tokens/second: 55.80\n",
      "7.) [legal] Question   --> When does the court New York Court of Sessions, Orange County commence?\n"
     ]
    },
    {
     "name": "stderr",
     "output_type": "stream",
     "text": [
      "Setting `pad_token_id` to `eos_token_id`:128001 for open-end generation.\n"
     ]
    },
    {
     "name": "stdout",
     "output_type": "stream",
     "text": [
      "Input tokens: 266\n",
      "Output tokens: 24\n",
      "Prefill time: 0.0721s\n",
      "Generation time: 0.4536s\n",
      "Generation tokens/second: 52.91\n",
      "8.) [legal] Question   --> When is the Court Of Oyer And Terminer New York court scheduled to start?\n"
     ]
    },
    {
     "name": "stderr",
     "output_type": "stream",
     "text": [
      "Setting `pad_token_id` to `eos_token_id`:128001 for open-end generation.\n"
     ]
    },
    {
     "name": "stdout",
     "output_type": "stream",
     "text": [
      "Input tokens: 269\n",
      "Output tokens: 64\n",
      "Prefill time: 0.0719s\n",
      "Generation time: 1.2866s\n",
      "Generation tokens/second: 49.74\n",
      "9.) [legal] Question   --> When is the U.S. Circuit Court for the Southern District of Georgia court scheduled to start?\n"
     ]
    },
    {
     "name": "stderr",
     "output_type": "stream",
     "text": [
      "Setting `pad_token_id` to `eos_token_id`:128001 for open-end generation.\n",
      "Setting `pad_token_id` to `eos_token_id`:128001 for open-end generation.\n"
     ]
    },
    {
     "name": "stdout",
     "output_type": "stream",
     "text": [
      "Input tokens: 271\n",
      "Output tokens: 32\n",
      "Prefill time: 0.0693s\n",
      "Generation time: 0.5793s\n",
      "Generation tokens/second: 55.24\n",
      "10.) [legal] Question   --> Can you tell me the commencement date of District Court, Canal Zone court?\n",
      "Input tokens: 267\n",
      "Output tokens: 7\n",
      "Prefill time: 0.0719s\n",
      "Generation time: 0.0993s\n",
      "Generation tokens/second: 70.49\n",
      "1.) [maple-biology] Question   --> Who wrote the paper titled \"snrk1 zmrfwd3 opaque2 a nexus of seed nutrient accumulation and diurnal cycles?\"\n"
     ]
    },
    {
     "name": "stderr",
     "output_type": "stream",
     "text": [
      "Setting `pad_token_id` to `eos_token_id`:128001 for open-end generation.\n",
      "Setting `pad_token_id` to `eos_token_id`:128001 for open-end generation.\n"
     ]
    },
    {
     "name": "stdout",
     "output_type": "stream",
     "text": [
      "Input tokens: 278\n",
      "Output tokens: 4\n",
      "Prefill time: 0.0731s\n",
      "Generation time: 0.0400s\n",
      "Generation tokens/second: 100.00\n",
      "2.) [maple-biology] Question   --> Who wrote the paper titled \"mutations in fbxl4 cause mitochondrial encephalopathy and a disorder of mitochondrial dna maintenance?\"\n",
      "Input tokens: 278\n",
      "Output tokens: 4\n",
      "Prefill time: 0.0692s\n",
      "Generation time: 0.0407s\n",
      "Generation tokens/second: 98.21\n",
      "3.) [maple-biology] Question   --> Who wrote the paper titled \"molecular basis for expression of common and rare fragile sites?\"\n"
     ]
    },
    {
     "name": "stderr",
     "output_type": "stream",
     "text": [
      "Setting `pad_token_id` to `eos_token_id`:128001 for open-end generation.\n",
      "Setting `pad_token_id` to `eos_token_id`:128001 for open-end generation.\n"
     ]
    },
    {
     "name": "stdout",
     "output_type": "stream",
     "text": [
      "Input tokens: 270\n",
      "Output tokens: 4\n",
      "Prefill time: 0.0715s\n",
      "Generation time: 0.0410s\n",
      "Generation tokens/second: 97.60\n",
      "4.) [maple-biology] Question   --> Do you know the authors for the paper \"taxis of pseudomonas putida f1 toward phenylacetic acid is mediated by the energy taxis receptor aer2?\"\n",
      "Input tokens: 287\n",
      "Output tokens: 4\n",
      "Prefill time: 0.0744s\n",
      "Generation time: 0.0472s\n",
      "Generation tokens/second: 84.69\n",
      "5.) [maple-biology] Question   --> Who are the authors of paper \"beyond the signal sequence protein routing in health and disease?\" \n"
     ]
    },
    {
     "name": "stderr",
     "output_type": "stream",
     "text": [
      "Setting `pad_token_id` to `eos_token_id`:128001 for open-end generation.\n"
     ]
    },
    {
     "name": "stdout",
     "output_type": "stream",
     "text": [
      "Input tokens: 271\n",
      "Output tokens: 27\n",
      "Prefill time: 0.0709s\n",
      "Generation time: 0.5133s\n",
      "Generation tokens/second: 52.60\n",
      "6.) [maple-biology] Question   --> Who are the authors of paper \"molecular analysis of expansion differentiation and growth factor treatment of human chondrocytes identifies differentiation markers and growth related genes?\" \n"
     ]
    },
    {
     "name": "stderr",
     "output_type": "stream",
     "text": [
      "Setting `pad_token_id` to `eos_token_id`:128001 for open-end generation.\n"
     ]
    },
    {
     "name": "stdout",
     "output_type": "stream",
     "text": [
      "Input tokens: 284\n",
      "Output tokens: 41\n",
      "Prefill time: 0.1036s\n",
      "Generation time: 0.7951s\n",
      "Generation tokens/second: 51.56\n",
      "7.) [maple-biology] Question   --> Do you know the authors for the paper \"analysis of rare deletional thalassemia using custom cgh array dna chip?\"\n"
     ]
    },
    {
     "name": "stderr",
     "output_type": "stream",
     "text": [
      "Setting `pad_token_id` to `eos_token_id`:128001 for open-end generation.\n"
     ]
    },
    {
     "name": "stdout",
     "output_type": "stream",
     "text": [
      "Input tokens: 279\n",
      "Output tokens: 36\n",
      "Prefill time: 0.0735s\n",
      "Generation time: 0.7174s\n",
      "Generation tokens/second: 50.18\n",
      "8.) [maple-biology] Question   --> Can you tell me the authors of the paper \"increasing temperature seasonality may overwhelm shifts in soil moisture to favor shrub over grass dominance in colorado plateau drylands?\"\n"
     ]
    },
    {
     "name": "stderr",
     "output_type": "stream",
     "text": [
      "Setting `pad_token_id` to `eos_token_id`:128001 for open-end generation.\n",
      "Setting `pad_token_id` to `eos_token_id`:128001 for open-end generation.\n"
     ]
    },
    {
     "name": "stdout",
     "output_type": "stream",
     "text": [
      "Input tokens: 287\n",
      "Output tokens: 86\n",
      "Prefill time: 0.0708s\n",
      "Generation time: 1.7762s\n",
      "Generation tokens/second: 48.42\n",
      "9.) [maple-biology] Question   --> Can you tell me the authors of the paper \"tissue distribution subcellular localization and enzymatic activity analysis of human sirt5 isoforms?\"\n",
      "Input tokens: 282\n",
      "Output tokens: 7\n",
      "Prefill time: 0.0738s\n",
      "Generation time: 0.0951s\n",
      "Generation tokens/second: 73.63\n",
      "10.) [maple-biology] Question   --> Do you know the authors for the paper \"sphingosine 1 phosphate phosphohydrolase regulates endoplasmic reticulum to golgi trafficking of ceramide?\"\n"
     ]
    },
    {
     "name": "stderr",
     "output_type": "stream",
     "text": [
      "Setting `pad_token_id` to `eos_token_id`:128001 for open-end generation.\n"
     ]
    },
    {
     "name": "stdout",
     "output_type": "stream",
     "text": [
      "Input tokens: 290\n",
      "Output tokens: 4\n",
      "Prefill time: 0.0766s\n",
      "Generation time: 0.0390s\n",
      "Generation tokens/second: 102.58\n",
      "1.) [maple-physics] Question   --> Can you name the authors of \"effects of encounters with field stars on the evolution of low mass semidetached binaries?\"\n"
     ]
    },
    {
     "name": "stderr",
     "output_type": "stream",
     "text": [
      "Setting `pad_token_id` to `eos_token_id`:128001 for open-end generation.\n",
      "Setting `pad_token_id` to `eos_token_id`:128001 for open-end generation.\n"
     ]
    },
    {
     "name": "stdout",
     "output_type": "stream",
     "text": [
      "Input tokens: 277\n",
      "Output tokens: 32\n",
      "Prefill time: 0.0719s\n",
      "Generation time: 0.5943s\n",
      "Generation tokens/second: 53.85\n",
      "2.) [maple-physics] Question   --> Can you name the authors of \"the planetary luminosity problem missing planets and the observational consequences of episodic accretion?\"\n",
      "Input tokens: 277\n",
      "Output tokens: 7\n",
      "Prefill time: 0.0701s\n",
      "Generation time: 0.0973s\n",
      "Generation tokens/second: 71.92\n",
      "3.) [maple-physics] Question   --> Can you name the authors of \"factorization of seiberg witten curves with matter from random matrix models?\"\n"
     ]
    },
    {
     "name": "stderr",
     "output_type": "stream",
     "text": [
      "Setting `pad_token_id` to `eos_token_id`:128001 for open-end generation.\n"
     ]
    },
    {
     "name": "stdout",
     "output_type": "stream",
     "text": [
      "Input tokens: 275\n",
      "Output tokens: 39\n",
      "Prefill time: 0.0719s\n",
      "Generation time: 0.7755s\n",
      "Generation tokens/second: 50.29\n",
      "4.) [maple-physics] Question   --> Who wrote the paper \"origin of superconductivity in the weyl semimetal wt e 2 under pressure?\"\n"
     ]
    },
    {
     "name": "stderr",
     "output_type": "stream",
     "text": [
      "Setting `pad_token_id` to `eos_token_id`:128001 for open-end generation.\n"
     ]
    },
    {
     "name": "stdout",
     "output_type": "stream",
     "text": [
      "Input tokens: 276\n",
      "Output tokens: 57\n",
      "Prefill time: 0.0730s\n",
      "Generation time: 1.1733s\n",
      "Generation tokens/second: 48.58\n",
      "5.) [maple-physics] Question   --> Who are the authors of paper \"effect of self phase modulation in chirped pulse amplification like schemes?\" \n"
     ]
    },
    {
     "name": "stderr",
     "output_type": "stream",
     "text": [
      "Setting `pad_token_id` to `eos_token_id`:128001 for open-end generation.\n",
      "Setting `pad_token_id` to `eos_token_id`:128001 for open-end generation.\n"
     ]
    },
    {
     "name": "stdout",
     "output_type": "stream",
     "text": [
      "Input tokens: 273\n",
      "Output tokens: 31\n",
      "Prefill time: 0.0724s\n",
      "Generation time: 0.5917s\n",
      "Generation tokens/second: 52.39\n",
      "6.) [maple-physics] Question   --> Who are the authors of paper \"study of chiral property of nuclear matter through measurements of φ meson decays?\" \n",
      "Input tokens: 276\n",
      "Output tokens: 4\n",
      "Prefill time: 0.0700s\n",
      "Generation time: 0.0421s\n",
      "Generation tokens/second: 95.05\n",
      "7.) [maple-physics] Question   --> Who wrote the paper \"confronting gw190814 with hyperonization in dense matter and hypernuclear compact stars?\"\n"
     ]
    },
    {
     "name": "stderr",
     "output_type": "stream",
     "text": [
      "Setting `pad_token_id` to `eos_token_id`:128001 for open-end generation.\n"
     ]
    },
    {
     "name": "stdout",
     "output_type": "stream",
     "text": [
      "Input tokens: 277\n",
      "Output tokens: 4\n",
      "Prefill time: 0.0720s\n",
      "Generation time: 0.0397s\n",
      "Generation tokens/second: 100.71\n",
      "8.) [maple-physics] Question   --> Can you tell me the authors of the paper \"three dimensional flow studies on a slotted transonic wind tunnel wall?\"\n"
     ]
    },
    {
     "name": "stderr",
     "output_type": "stream",
     "text": [
      "Setting `pad_token_id` to `eos_token_id`:128001 for open-end generation.\n",
      "Setting `pad_token_id` to `eos_token_id`:128001 for open-end generation.\n"
     ]
    },
    {
     "name": "stdout",
     "output_type": "stream",
     "text": [
      "Input tokens: 276\n",
      "Output tokens: 34\n",
      "Prefill time: 0.0692s\n",
      "Generation time: 0.6775s\n",
      "Generation tokens/second: 50.18\n",
      "9.) [maple-physics] Question   --> Can you tell me the authors of the paper \"influence of cassette type on the dqe of cr systems?\"\n",
      "Input tokens: 275\n",
      "Output tokens: 7\n",
      "Prefill time: 0.0701s\n",
      "Generation time: 0.1013s\n",
      "Generation tokens/second: 69.09\n",
      "10.) [maple-physics] Question   --> Who wrote the paper \"atomic gas in blue ultra diffuse galaxies around hickson compact groups?\"\n"
     ]
    },
    {
     "name": "stderr",
     "output_type": "stream",
     "text": [
      "Setting `pad_token_id` to `eos_token_id`:128001 for open-end generation.\n",
      "Setting `pad_token_id` to `eos_token_id`:128001 for open-end generation.\n"
     ]
    },
    {
     "name": "stdout",
     "output_type": "stream",
     "text": [
      "Input tokens: 271\n",
      "Output tokens: 47\n",
      "Prefill time: 0.0722s\n",
      "Generation time: 0.9629s\n",
      "Generation tokens/second: 48.81\n",
      "1.) [maple-chemistry] Question   --> Who penned the paper \"sirt2 inhibition activates hypoxia inducible factor 1α signaling and mediates neuronal survival?\"\n",
      "Input tokens: 279\n",
      "Output tokens: 4\n",
      "Prefill time: 0.0715s\n",
      "Generation time: 0.0404s\n",
      "Generation tokens/second: 99.01\n",
      "2.) [maple-chemistry] Question   --> Who penned the paper \"instantaneous and permanent photoionization?\"\n"
     ]
    },
    {
     "name": "stderr",
     "output_type": "stream",
     "text": [
      "Setting `pad_token_id` to `eos_token_id`:128001 for open-end generation.\n",
      "Setting `pad_token_id` to `eos_token_id`:128001 for open-end generation.\n"
     ]
    },
    {
     "name": "stdout",
     "output_type": "stream",
     "text": [
      "Input tokens: 265\n",
      "Output tokens: 4\n",
      "Prefill time: 0.0707s\n",
      "Generation time: 0.0397s\n",
      "Generation tokens/second: 100.74\n",
      "3.) [maple-chemistry] Question   --> Who penned the paper \"complex rare earth aluminum hydrides mechanochemical preparation crystal structure and potential for hydrogen storage?\"\n",
      "Input tokens: 276\n",
      "Output tokens: 4\n",
      "Prefill time: 0.0698s\n",
      "Generation time: 0.0397s\n",
      "Generation tokens/second: 100.80\n",
      "4.) [maple-chemistry] Question   --> Do you know who the authors of \"asymmetric and independent contribution of the second transmembrane segment 12 residues to diliganded gating of acetylcholine receptor channels a single channel study with choline as the agonist\" are?\n"
     ]
    },
    {
     "name": "stderr",
     "output_type": "stream",
     "text": [
      "Setting `pad_token_id` to `eos_token_id`:128001 for open-end generation.\n"
     ]
    },
    {
     "name": "stdout",
     "output_type": "stream",
     "text": [
      "Input tokens: 300\n",
      "Output tokens: 24\n",
      "Prefill time: 0.0771s\n",
      "Generation time: 0.4716s\n",
      "Generation tokens/second: 50.89\n",
      "5.) [maple-chemistry] Question   --> Who are the authors of paper \"on the stability of the extracellular hemoglobin of glossoscolex paulistus in two iron oxidation states in the presence of urea?\" \n"
     ]
    },
    {
     "name": "stderr",
     "output_type": "stream",
     "text": [
      "Setting `pad_token_id` to `eos_token_id`:128001 for open-end generation.\n"
     ]
    },
    {
     "name": "stdout",
     "output_type": "stream",
     "text": [
      "Input tokens: 288\n",
      "Output tokens: 45\n",
      "Prefill time: 0.0732s\n",
      "Generation time: 0.9317s\n",
      "Generation tokens/second: 48.30\n",
      "6.) [maple-chemistry] Question   --> Who are the authors of paper \"thorium iv molecular clusters with a hexanuclear th core?\" \n"
     ]
    },
    {
     "name": "stderr",
     "output_type": "stream",
     "text": [
      "Setting `pad_token_id` to `eos_token_id`:128001 for open-end generation.\n"
     ]
    },
    {
     "name": "stdout",
     "output_type": "stream",
     "text": [
      "Input tokens: 273\n",
      "Output tokens: 33\n",
      "Prefill time: 0.0722s\n",
      "Generation time: 0.6562s\n",
      "Generation tokens/second: 50.29\n",
      "7.) [maple-chemistry] Question   --> Do you know who the authors of \"chemistry eluting the tag\" are?\n"
     ]
    },
    {
     "name": "stderr",
     "output_type": "stream",
     "text": [
      "Setting `pad_token_id` to `eos_token_id`:128001 for open-end generation.\n"
     ]
    },
    {
     "name": "stdout",
     "output_type": "stream",
     "text": [
      "Input tokens: 268\n",
      "Output tokens: 40\n",
      "Prefill time: 0.0723s\n",
      "Generation time: 0.8266s\n",
      "Generation tokens/second: 48.39\n",
      "8.) [maple-chemistry] Question   --> Can you tell me the authors of the paper titled \"reactions of chlorine atoms with a series of aromatic hydrocarbons?\"\n"
     ]
    },
    {
     "name": "stderr",
     "output_type": "stream",
     "text": [
      "Setting `pad_token_id` to `eos_token_id`:128001 for open-end generation.\n"
     ]
    },
    {
     "name": "stdout",
     "output_type": "stream",
     "text": [
      "Input tokens: 277\n",
      "Output tokens: 87\n",
      "Prefill time: 0.0718s\n",
      "Generation time: 1.7903s\n",
      "Generation tokens/second: 48.60\n",
      "9.) [maple-chemistry] Question   --> Can you tell me the authors of the paper titled \"m fluorotyrosine substitution in β galactosidase evidence for the existence of a catalytically active tyrosine?\"\n"
     ]
    },
    {
     "name": "stderr",
     "output_type": "stream",
     "text": [
      "Setting `pad_token_id` to `eos_token_id`:128001 for open-end generation.\n",
      "Setting `pad_token_id` to `eos_token_id`:128001 for open-end generation.\n"
     ]
    },
    {
     "name": "stdout",
     "output_type": "stream",
     "text": [
      "Input tokens: 290\n",
      "Output tokens: 53\n",
      "Prefill time: 0.0757s\n",
      "Generation time: 1.0436s\n",
      "Generation tokens/second: 50.79\n",
      "10.) [maple-chemistry] Question   --> Do you know who the authors of \"efficient assembly of iminodicarboxamides by a truly four component reaction\" are?\n",
      "Input tokens: 279\n",
      "Output tokens: 8\n",
      "Prefill time: 0.0721s\n",
      "Generation time: 0.1176s\n",
      "Generation tokens/second: 68.03\n",
      "1.) [maple-medicine] Question   --> Do you know who the authors of \"preinfarction blood pressure and smoking are determinants for a fatal outcome of myocardial infarction a prospective analysis from the finnmark study\" are?\n"
     ]
    },
    {
     "name": "stderr",
     "output_type": "stream",
     "text": [
      "Setting `pad_token_id` to `eos_token_id`:128001 for open-end generation.\n"
     ]
    },
    {
     "name": "stdout",
     "output_type": "stream",
     "text": [
      "Input tokens: 293\n",
      "Output tokens: 57\n",
      "Prefill time: 0.0772s\n",
      "Generation time: 1.1708s\n",
      "Generation tokens/second: 48.68\n",
      "2.) [maple-medicine] Question   --> Do you know who the authors of \"subtle and underrecognized side effects of neuroleptic treatment in children with tourette s disorder\" are?\n"
     ]
    },
    {
     "name": "stderr",
     "output_type": "stream",
     "text": [
      "Setting `pad_token_id` to `eos_token_id`:128001 for open-end generation.\n",
      "Setting `pad_token_id` to `eos_token_id`:128001 for open-end generation.\n"
     ]
    },
    {
     "name": "stdout",
     "output_type": "stream",
     "text": [
      "Input tokens: 282\n",
      "Output tokens: 41\n",
      "Prefill time: 0.0729s\n",
      "Generation time: 0.8511s\n",
      "Generation tokens/second: 48.17\n",
      "3.) [maple-medicine] Question   --> Do you know who the authors of \"isotype profile and clinical relevance of anticardiolipin antibodies in sjogren s syndrome\" are?\n",
      "Input tokens: 282\n",
      "Output tokens: 7\n",
      "Prefill time: 0.0708s\n",
      "Generation time: 0.1018s\n",
      "Generation tokens/second: 68.74\n",
      "4.) [maple-medicine] Question   --> Who wrote the \"bcr breakpoint and prognosis of chronic phase chronic myeloid leukemia letter comment\" paper?\n"
     ]
    },
    {
     "name": "stderr",
     "output_type": "stream",
     "text": [
      "Setting `pad_token_id` to `eos_token_id`:128001 for open-end generation.\n"
     ]
    },
    {
     "name": "stdout",
     "output_type": "stream",
     "text": [
      "Input tokens: 274\n",
      "Output tokens: 4\n",
      "Prefill time: 0.0737s\n",
      "Generation time: 0.0443s\n",
      "Generation tokens/second: 90.32\n",
      "5.) [maple-medicine] Question   --> Who are the authors of paper \"patterns and trends of newly diagnosed hiv infections among adults and adolescents in correctional and noncorrectional facilities united states 2008 2011?\" \n"
     ]
    },
    {
     "name": "stderr",
     "output_type": "stream",
     "text": [
      "Setting `pad_token_id` to `eos_token_id`:128001 for open-end generation.\n"
     ]
    },
    {
     "name": "stdout",
     "output_type": "stream",
     "text": [
      "Input tokens: 290\n",
      "Output tokens: 101\n",
      "Prefill time: 0.0748s\n",
      "Generation time: 2.2205s\n",
      "Generation tokens/second: 45.48\n",
      "6.) [maple-medicine] Question   --> Who are the authors of paper \"assessing the risk of breast cancer?\" \n"
     ]
    },
    {
     "name": "stderr",
     "output_type": "stream",
     "text": [
      "Setting `pad_token_id` to `eos_token_id`:128001 for open-end generation.\n",
      "Setting `pad_token_id` to `eos_token_id`:128001 for open-end generation.\n"
     ]
    },
    {
     "name": "stdout",
     "output_type": "stream",
     "text": [
      "Input tokens: 268\n",
      "Output tokens: 25\n",
      "Prefill time: 0.0711s\n",
      "Generation time: 0.4383s\n",
      "Generation tokens/second: 57.04\n",
      "7.) [maple-medicine] Question   --> Who wrote the \"levels of phosphorylated p70 s6 kinase and phosphorylated erk1 2 predict overall survival and time to first treatment in chronic lymphocytic leukaemia\" paper?\n",
      "Input tokens: 291\n",
      "Output tokens: 4\n",
      "Prefill time: 0.1067s\n",
      "Generation time: 0.0405s\n",
      "Generation tokens/second: 98.85\n",
      "8.) [maple-medicine] Question   --> Can you tell me the authors of the paper \"altitude pulmonary edema below 8 000 feet what are we missing?\"\n"
     ]
    },
    {
     "name": "stderr",
     "output_type": "stream",
     "text": [
      "Setting `pad_token_id` to `eos_token_id`:128001 for open-end generation.\n"
     ]
    },
    {
     "name": "stdout",
     "output_type": "stream",
     "text": [
      "Input tokens: 277\n",
      "Output tokens: 31\n",
      "Prefill time: 0.0720s\n",
      "Generation time: 0.6249s\n",
      "Generation tokens/second: 49.61\n",
      "9.) [maple-medicine] Question   --> Can you tell me the authors of the paper \"comparison of visual acuity measured with allen figures and snellen letters using the b vat ii monitor?\"\n"
     ]
    },
    {
     "name": "stderr",
     "output_type": "stream",
     "text": [
      "Setting `pad_token_id` to `eos_token_id`:128001 for open-end generation.\n"
     ]
    },
    {
     "name": "stdout",
     "output_type": "stream",
     "text": [
      "Input tokens: 282\n",
      "Output tokens: 41\n",
      "Prefill time: 0.0701s\n",
      "Generation time: 0.8666s\n",
      "Generation tokens/second: 47.31\n",
      "10.) [maple-medicine] Question   --> Who wrote the \"an open label prospective pilot clinical study of denosumab for severe hyperparathyroidism in patients with low bone mass undergoing dialysis\" paper?\n"
     ]
    },
    {
     "name": "stderr",
     "output_type": "stream",
     "text": [
      "Setting `pad_token_id` to `eos_token_id`:128001 for open-end generation.\n"
     ]
    },
    {
     "name": "stdout",
     "output_type": "stream",
     "text": [
      "Input tokens: 287\n",
      "Output tokens: 27\n",
      "Prefill time: 0.0737s\n",
      "Generation time: 0.5337s\n",
      "Generation tokens/second: 50.59\n",
      "1.) [maple-materials-science] Question   --> Could you tell me who are the authors of \"sts observations of landau levels at graphite surfaces?\"\n"
     ]
    },
    {
     "name": "stderr",
     "output_type": "stream",
     "text": [
      "Setting `pad_token_id` to `eos_token_id`:128001 for open-end generation.\n"
     ]
    },
    {
     "name": "stdout",
     "output_type": "stream",
     "text": [
      "Input tokens: 272\n",
      "Output tokens: 56\n",
      "Prefill time: 0.0726s\n",
      "Generation time: 1.1807s\n",
      "Generation tokens/second: 47.43\n",
      "2.) [maple-materials-science] Question   --> Could you tell me who are the authors of \"formation of single quantum dot in single walled carbon nanotube channel using focused ion beam technique?\"\n"
     ]
    },
    {
     "name": "stderr",
     "output_type": "stream",
     "text": [
      "Setting `pad_token_id` to `eos_token_id`:128001 for open-end generation.\n"
     ]
    },
    {
     "name": "stdout",
     "output_type": "stream",
     "text": [
      "Input tokens: 282\n",
      "Output tokens: 69\n",
      "Prefill time: 0.0723s\n",
      "Generation time: 1.5867s\n",
      "Generation tokens/second: 43.49\n",
      "3.) [maple-materials-science] Question   --> Could you tell me who are the authors of \"high sensitivity nanometer scale infrared spectroscopy using a contact mode microcantilever with an internal resonator paddle?\"\n"
     ]
    },
    {
     "name": "stderr",
     "output_type": "stream",
     "text": [
      "Setting `pad_token_id` to `eos_token_id`:128001 for open-end generation.\n"
     ]
    },
    {
     "name": "stdout",
     "output_type": "stream",
     "text": [
      "Input tokens: 285\n",
      "Output tokens: 42\n",
      "Prefill time: 0.0742s\n",
      "Generation time: 0.8898s\n",
      "Generation tokens/second: 47.20\n",
      "4.) [maple-materials-science] Question   --> Who wrote the paper \"unraveling doping capability of conjugated polymers for strategic manipulation of electric dipole layer toward efficient charge collection in perovskite solar cells?\"\n"
     ]
    },
    {
     "name": "stderr",
     "output_type": "stream",
     "text": [
      "Setting `pad_token_id` to `eos_token_id`:128001 for open-end generation.\n"
     ]
    },
    {
     "name": "stdout",
     "output_type": "stream",
     "text": [
      "Input tokens: 287\n",
      "Output tokens: 42\n",
      "Prefill time: 0.0712s\n",
      "Generation time: 0.8543s\n",
      "Generation tokens/second: 49.16\n",
      "5.) [maple-materials-science] Question   --> Who are the authors of paper \"isomerization of azobenzene and the enhancement of dynamic heterogeneities in molecular glass formers?\" \n"
     ]
    },
    {
     "name": "stderr",
     "output_type": "stream",
     "text": [
      "Setting `pad_token_id` to `eos_token_id`:128001 for open-end generation.\n"
     ]
    },
    {
     "name": "stdout",
     "output_type": "stream",
     "text": [
      "Input tokens: 281\n",
      "Output tokens: 37\n",
      "Prefill time: 0.0738s\n",
      "Generation time: 0.7961s\n",
      "Generation tokens/second: 46.48\n",
      "6.) [maple-materials-science] Question   --> Who are the authors of paper \"ni2p grown in situ on milled black phosphorus flakes and its high energy storage performance?\" \n"
     ]
    },
    {
     "name": "stderr",
     "output_type": "stream",
     "text": [
      "Setting `pad_token_id` to `eos_token_id`:128001 for open-end generation.\n"
     ]
    },
    {
     "name": "stdout",
     "output_type": "stream",
     "text": [
      "Input tokens: 279\n",
      "Output tokens: 36\n",
      "Prefill time: 0.0734s\n",
      "Generation time: 0.7743s\n",
      "Generation tokens/second: 46.50\n",
      "7.) [maple-materials-science] Question   --> Who wrote the paper \"promotion of sers and catalytic activities with bimetallic and ternary concave nanolayers?\"\n"
     ]
    },
    {
     "name": "stderr",
     "output_type": "stream",
     "text": [
      "Setting `pad_token_id` to `eos_token_id`:128001 for open-end generation.\n"
     ]
    },
    {
     "name": "stdout",
     "output_type": "stream",
     "text": [
      "Input tokens: 279\n",
      "Output tokens: 43\n",
      "Prefill time: 0.0698s\n",
      "Generation time: 0.9067s\n",
      "Generation tokens/second: 47.43\n",
      "8.) [maple-materials-science] Question   --> Can you tell me the authors of the paper titled \"tensile properties of high strength polyacrylonitrile pan based and high modulus pitch based hybrid carbon fibers reinforced epoxy matrix composite?\"\n"
     ]
    },
    {
     "name": "stderr",
     "output_type": "stream",
     "text": [
      "Setting `pad_token_id` to `eos_token_id`:128001 for open-end generation.\n"
     ]
    },
    {
     "name": "stdout",
     "output_type": "stream",
     "text": [
      "Input tokens: 291\n",
      "Output tokens: 40\n",
      "Prefill time: 0.0754s\n",
      "Generation time: 0.7977s\n",
      "Generation tokens/second: 50.14\n",
      "9.) [maple-materials-science] Question   --> Can you tell me the authors of the paper titled \"hydration of mgo 100 surface promoted at 011 steps?\"\n"
     ]
    },
    {
     "name": "stderr",
     "output_type": "stream",
     "text": [
      "Setting `pad_token_id` to `eos_token_id`:128001 for open-end generation.\n"
     ]
    },
    {
     "name": "stdout",
     "output_type": "stream",
     "text": [
      "Input tokens: 276\n",
      "Output tokens: 50\n",
      "Prefill time: 0.0737s\n",
      "Generation time: 1.0447s\n",
      "Generation tokens/second: 47.86\n",
      "10.) [maple-materials-science] Question   --> Who wrote the paper \"microstructure and growth model for rice hull derived sic whiskers?\"\n",
      "Input tokens: 270\n",
      "Output tokens: 6\n",
      "Prefill time: 0.0724s\n",
      "Generation time: 0.0774s\n",
      "Generation tokens/second: 77.56\n"
     ]
    }
   ],
   "source": [
    "for domain in domains: \n",
    "    qa_data = load_jsonl(qa_paths[domain])\n",
    "\n",
    "    results[domain] = {}\n",
    "    results[domain]['high-level-metrics'] = {\n",
    "        \"total-questions\" : 0,\n",
    "        \"total-internals\" : 0, \n",
    "        \"total-externals\" : 0, \n",
    "        \"total-latency-s\" : 0.0, \n",
    "        \"average-latency-s\" : 0.0, \n",
    "    }\n",
    "    results[domain]['per-question-results'] = [] \n",
    "    count = 10\n",
    "    internals = 0 \n",
    "    externals = 0 \n",
    "    average_latency = 0.0\n",
    "    total_latency = 0.0 \n",
    "    for i, qdata in enumerate(qa_data, start=1): \n",
    "        if i > count: \n",
    "            i = i - 1 \n",
    "            break \n",
    "        qid = qdata[\"qid\"]\n",
    "        question = qdata[\"question\"]\n",
    "        messages = [\n",
    "            {\n",
    "                \"role\": \"system\",\n",
    "                \"content\": f\"{system_prompt}\"\n",
    "            },\n",
    "            {\n",
    "                \"role\": \"user\", \n",
    "                \"content\": f\"{prefix}{question}\"\n",
    "            }\n",
    "        ]\n",
    "        #inputs = tokenizer.apply_chat_template(\n",
    "        #    messages, \n",
    "        #    tokenize=False,\n",
    "        #    add_generation_prompt=False, # \n",
    "        #    #return_tensors=\"pt\" # w/ Tensor, w/o list\n",
    "        #)#.to(device)\n",
    "        #inputs = tokenizer(chat_text, return_tensors=\"pt\").to(device)\n",
    "        print(f\"{i}.) [{domain}] Question   --> {question}\")\n",
    "        #print(f\"{i}.) [{domain}] Classified --> {classified}\")\n",
    "        chat_text = tokenizer.apply_chat_template(\n",
    "            messages, \n",
    "            tokenize=False,\n",
    "            add_generation_prompt=True\n",
    "        )\n",
    "        # Tokenize the formatted chat\n",
    "        inputs = tokenizer(chat_text, return_tensors=\"pt\").to(device)\n",
    "        num_input_tokens = inputs.input_ids.shape[1]\n",
    "        #print(inputs) \n",
    "        #print(inputs.input_ids)\n",
    "\n",
    "\n",
    "\n",
    "        # Create streamer for token-by-token generation\n",
    "        streamer = TextIteratorStreamer(tokenizer, \n",
    "                                skip_prompt=True, \n",
    "                                skip_special_tokens=True)\n",
    "\n",
    "        generation_kwargs = {\n",
    "            \"input_ids\": inputs.input_ids,\n",
    "            \"attention_mask\": inputs.attention_mask,\n",
    "            \"max_new_tokens\": 100,\n",
    "            \"temperature\": 0.7,\n",
    "            \"streamer\": streamer,\n",
    "            #\"eos_token_id\": None,\n",
    "            \"do_sample\": True\n",
    "        }\n",
    "\n",
    "        thread = Thread(target=model.generate, kwargs=generation_kwargs)\n",
    "        thread.start()\n",
    "\n",
    "        prefill_start = time.time()\n",
    "        first_token = next(streamer)\n",
    "        prefill_end = time.time()\n",
    "        prefill_time = prefill_end - prefill_start\n",
    "\n",
    "        # Track generation time\n",
    "        generated_text = first_token \n",
    "        tokens_generated = 1\n",
    "\n",
    "        generation_start = time.time()\n",
    "        # Continue streaming tokens\n",
    "        for token in streamer:\n",
    "            generated_text += token\n",
    "            tokens_generated += 1\n",
    "        generation_end = time.time()\n",
    "        generation_time = generation_end - generation_start\n",
    "\n",
    "         # Print metrics\n",
    "        #print(f\"Input: {chat_text}\")\n",
    "        #print(f\"Generated: {generated_text}\")\n",
    "        print(f\"Input tokens: {num_input_tokens}\")\n",
    "        print(f\"Output tokens: {tokens_generated}\")\n",
    "        print(f\"Prefill time: {prefill_time:.4f}s\")\n",
    "        print(f\"Generation time: {generation_time:.4f}s\")\n",
    "        print(f\"Generation tokens/second: {tokens_generated/generation_time:.2f}\")\n",
    "        \n",
    "        #average_latency = 0.0\n",
    "        total_latency += (prefill_time + generation_time) \n",
    "        \n",
    "        if \"Internal Response\" in generated_text: \n",
    "            classified = \"Internal Response\"\n",
    "            internals += 1 \n",
    "        elif \"External Response\" in generated_text: \n",
    "            classified = \"External Response\"\n",
    "            externals += 1\n",
    "        else: \n",
    "            raise RuntimeError(\"bad llm response\")\n",
    "        # SimpleAgent(\"sys + prefix + prompt\").SimpleAgent(\"sys2 + prefix2\")\n",
    "        results[domain]['per-question-results'].append(\n",
    "            {'qid':qid, \n",
    "             'question':question, \n",
    "             \"classified\":classified,\n",
    "             \"num-input-tokens\":num_input_tokens, \n",
    "             \"num-output-tokens\": tokens_generated, \n",
    "             \"ttft\": prefill_time, \n",
    "             \"total-latency\": generation_time, \n",
    "             \"tps\": tokens_generated/generation_time, \n",
    "            }\n",
    "        )\n",
    "        #proceed() \n",
    "    results[domain]['high-level-metrics'][\"total-questions\"] = i \n",
    "    results[domain]['high-level-metrics'][\"total-internals\"] = internals\n",
    "    results[domain]['high-level-metrics'][\"total-externals\"] = externals\n",
    "    results[domain]['high-level-metrics'][\"total-latency-s\"] = total_latency\n",
    "    results[domain]['high-level-metrics'][\"average-latency-s\"] = total_latency / i \n",
    "    \n",
    "\n"
   ]
  },
  {
   "cell_type": "code",
   "execution_count": 15,
   "id": "91a69722-3024-471d-97f8-6ca724dbac7f",
   "metadata": {},
   "outputs": [],
   "source": [
    "from mlhq.utils import get_datetime_str\n",
    "revised_model_name = model_name.replace('/','--')\n",
    "write_json(results, f\"./baseline-{revised_model_name}-{get_datetime_str()}.json\")"
   ]
  },
  {
   "cell_type": "code",
   "execution_count": null,
   "id": "3bb09afb-020b-4433-a006-bb052e7652ce",
   "metadata": {},
   "outputs": [],
   "source": []
  },
  {
   "cell_type": "code",
   "execution_count": 11,
   "id": "f5e5ed2a-2c44-4bec-9762-aa0ad3871e5e",
   "metadata": {},
   "outputs": [
    {
     "ename": "TypeError",
     "evalue": "string indices must be integers",
     "output_type": "error",
     "traceback": [
      "\u001b[0;31m---------------------------------------------------------------------------\u001b[0m",
      "\u001b[0;31mTypeError\u001b[0m                                 Traceback (most recent call last)",
      "Cell \u001b[0;32mIn[11], line 11\u001b[0m\n\u001b[1;32m      9\u001b[0m \u001b[38;5;28;01mif\u001b[39;00m k \u001b[38;5;129;01min\u001b[39;00m domains:\n\u001b[1;32m     10\u001b[0m     \u001b[38;5;28;01mfor\u001b[39;00m q \u001b[38;5;129;01min\u001b[39;00m v: \n\u001b[0;32m---> 11\u001b[0m         num_input_tokens\u001b[38;5;241m.\u001b[39mappend(\u001b[43mq\u001b[49m\u001b[43m[\u001b[49m\u001b[38;5;124;43m'\u001b[39;49m\u001b[38;5;124;43mnum-input-tokens\u001b[39;49m\u001b[38;5;124;43m'\u001b[39;49m\u001b[43m]\u001b[49m)\n\u001b[1;32m     12\u001b[0m         num_output_tokens\u001b[38;5;241m.\u001b[39mappend(q[\u001b[38;5;124m'\u001b[39m\u001b[38;5;124mnum-output-tokens\u001b[39m\u001b[38;5;124m'\u001b[39m])\n\u001b[1;32m     13\u001b[0m         ttfts\u001b[38;5;241m.\u001b[39mappend(q[\u001b[38;5;124m'\u001b[39m\u001b[38;5;124mttft\u001b[39m\u001b[38;5;124m'\u001b[39m])\n",
      "\u001b[0;31mTypeError\u001b[0m: string indices must be integers"
     ]
    }
   ],
   "source": [
    "num_input_tokens = []\n",
    "num_output_tokens = []\n",
    "ttfts =[] \n",
    "total_latencies = [] \n",
    "tpss = [] \n",
    "\n",
    "for k,v in results.items(): \n",
    "    #print(k)\n",
    "    if k in domains:\n",
    "        for q in v: \n",
    "            num_input_tokens.append(q['num-input-tokens'])\n",
    "            num_output_tokens.append(q['num-output-tokens'])\n",
    "            ttfts.append(q['ttft'])\n",
    "            total_latencies.append(q['total-latency'])\n",
    "            tpss.append(q['tps'])\n",
    "        "
   ]
  },
  {
   "cell_type": "code",
   "execution_count": null,
   "id": "4fd4e036-c7bb-4fac-b91d-68518150254c",
   "metadata": {},
   "outputs": [],
   "source": [
    "tpss"
   ]
  },
  {
   "cell_type": "code",
   "execution_count": null,
   "id": "799fda92-22f9-4bcf-a14b-edf4a71ce93d",
   "metadata": {},
   "outputs": [],
   "source": [
    "# Plots tpss (y) as a function of output tokens lenght(x) and input tokens\n",
    "import matplotlib.pyplot as plt\n",
    "\n",
    "# Assuming num_output_tokens and tpss are already populated from your loop above\n",
    "\n",
    "plt.figure(figsize=(10,6))\n",
    "\n",
    "# Scatter plot\n",
    "plt.scatter(num_output_tokens, tpss, marker='o')\n",
    "\n",
    "# Adding titles and labels\n",
    "plt.title(f'TPS vs. Number of Output Tokens [{model_name}]', fontsize=14)\n",
    "plt.xlabel('Number of Output Tokens', fontsize=12)\n",
    "plt.ylabel('TPS', fontsize=12)\n",
    "\n",
    "# Optional: adding grid for better readability\n",
    "plt.grid(True, linestyle='--', alpha=0.6)\n",
    "\n",
    "# Display the plot\n",
    "plt.show()"
   ]
  },
  {
   "cell_type": "code",
   "execution_count": null,
   "id": "0941c8ce-02dc-41d5-bbfc-badccdaa5a0f",
   "metadata": {},
   "outputs": [],
   "source": [
    "import matplotlib.pyplot as plt\n",
    "import numpy as np\n",
    "from scipy.interpolate import make_interp_spline\n",
    "\n",
    "# Convert to numpy arrays\n",
    "x = np.array(num_output_tokens)\n",
    "y = np.array(tpss)\n",
    "\n",
    "# Average TPS values for each unique output token count\n",
    "unique_x = np.unique(x)\n",
    "average_y = np.array([y[x == val].mean() for val in unique_x])\n",
    "\n",
    "# Spline interpolation\n",
    "x_smooth = np.linspace(unique_x.min(), unique_x.max(), 300)\n",
    "spl = make_interp_spline(unique_x, average_y, k=3)\n",
    "y_smooth = spl(x_smooth)\n",
    "\n",
    "# Plotting\n",
    "plt.figure(figsize=(10, 6))\n",
    "plt.scatter(x, y, marker='o', label='Original Data')\n",
    "plt.plot(x_smooth, y_smooth, color='red', linewidth=2, label='Spline Curve (Averaged)')\n",
    "\n",
    "# Labels and Grid\n",
    "plt.title(f'TPS vs. Number of Output Tokens [{model_name}]', fontsize=14)\n",
    "plt.xlabel('Number of Output Tokens', fontsize=12)\n",
    "plt.ylabel('Tokens/Second', fontsize=12)\n",
    "plt.grid(True, linestyle='--', alpha=0.6)\n",
    "plt.legend()\n",
    "\n",
    "plt.show()\n"
   ]
  },
  {
   "cell_type": "code",
   "execution_count": null,
   "id": "d0030882-e325-4c20-b45a-90d26d8b55d6",
   "metadata": {},
   "outputs": [],
   "source": []
  }
 ],
 "metadata": {
  "kernelspec": {
   "display_name": "Python 3 (ipykernel)",
   "language": "python",
   "name": "python3"
  },
  "language_info": {
   "codemirror_mode": {
    "name": "ipython",
    "version": 3
   },
   "file_extension": ".py",
   "mimetype": "text/x-python",
   "name": "python",
   "nbconvert_exporter": "python",
   "pygments_lexer": "ipython3",
   "version": "3.9.6"
  }
 },
 "nbformat": 4,
 "nbformat_minor": 5
}
